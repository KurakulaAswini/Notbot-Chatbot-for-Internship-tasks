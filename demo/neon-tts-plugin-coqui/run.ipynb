{
  "cells": [
    {
      "cell_type": "markdown",
      "metadata": {
        "id": "view-in-github",
        "colab_type": "text"
      },
      "source": [
        "<a href=\"https://colab.research.google.com/github/KurakulaAswini/Notbot-Chatbot-for-Internship-tasks/blob/main/demo/neon-tts-plugin-coqui/run.ipynb\" target=\"_parent\"><img src=\"https://colab.research.google.com/assets/colab-badge.svg\" alt=\"Open In Colab\"/></a>"
      ]
    },
    {
      "cell_type": "markdown",
      "id": 3.0293430767166755e+38,
      "metadata": {
        "id": 3.0293430767166755e+38
      },
      "source": [
        "# Gradio Demo: neon-tts-plugin-coqui\n",
        "### This  demo converts text to speech in 14 languages.\n",
        "        "
      ]
    },
    {
      "cell_type": "code",
      "execution_count": null,
      "id": 2.7299665331067346e+38,
      "metadata": {
        "id": 2.7299665331067346e+38
      },
      "outputs": [],
      "source": [
        "!pip install -q gradio neon-tts-plugin-coqui==0.4.1a9"
      ]
    },
    {
      "cell_type": "code",
      "execution_count": null,
      "id": 2.8891853944186117e+38,
      "metadata": {
        "id": 2.8891853944186117e+38
      },
      "outputs": [],
      "source": [
        "# Downloading files from the demo repo\n",
        "import os\n",
        "!wget -q https://github.com/gradio-app/gradio/raw/main/demo/neon-tts-plugin-coqui/packages.txt"
      ]
    },
    {
      "cell_type": "code",
      "execution_count": null,
      "id": 4.438057757052328e+37,
      "metadata": {
        "id": 4.438057757052328e+37
      },
      "outputs": [],
      "source": [
        "import tempfile\n",
        "import gradio as gr\n",
        "from neon_tts_plugin_coqui import CoquiTTS\n",
        "\n",
        "LANGUAGES = list(CoquiTTS.langs.keys())\n",
        "coquiTTS = CoquiTTS()\n",
        "\n",
        "def tts(text: str, language: str):\n",
        "    with tempfile.NamedTemporaryFile(suffix=\".wav\", delete=False) as fp:\n",
        "        coquiTTS.get_tts(text, fp, speaker = {\"language\" : language})\n",
        "        return fp.name\n",
        "\n",
        "inputs = [gr.Textbox(label=\"Input\", value=CoquiTTS.langs[\"en\"][\"sentence\"], max_lines=3),\n",
        "            gr.Radio(label=\"Language\", choices=LANGUAGES, value=\"en\")]\n",
        "outputs = gr.Audio(label=\"Output\")\n",
        "\n",
        "demo = gr.Interface(fn=tts, inputs=inputs, outputs=outputs)\n",
        "\n",
        "demo.launch()"
      ]
    }
  ],
  "metadata": {
    "colab": {
      "provenance": [],
      "include_colab_link": true
    }
  },
  "nbformat": 4,
  "nbformat_minor": 5
}